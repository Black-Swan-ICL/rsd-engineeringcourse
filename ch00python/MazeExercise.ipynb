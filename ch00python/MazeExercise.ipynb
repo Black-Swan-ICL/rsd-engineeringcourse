{
 "cells": [
  {
   "cell_type": "markdown",
   "metadata": {},
   "source": [
    "## Exercise: a Maze Model.\n",
    "\n",
    "<br>\n",
    "\n",
    "Work with a partner to design a data structure to represent a maze using dictionaries and lists.\n",
    "- Each place in the maze has a name, which is a string.\n",
    "- Each place in the maze has one or more people currently standing at it, by name.\n",
    "- Each place in the maze has a maximum capacity of people that can fit in it.\n",
    "- From each place in the maze, you can go from that place to a few other places, using a direction like 'up', 'north', or 'sideways'\n",
    "\n",
    "<br>\n",
    "\n",
    "Create an example instance, in a notebook, of a simple structure for your maze:\n",
    "- The front room can hold 2 people. James is currently there. You can go outside to the garden, or upstairs to the bedroom, or north to the kitchen.\n",
    "- From the kitchen, you can go south to the front room. It fits 1 person.\n",
    "- From the garden you can go inside to front room. It fits 3 people. Sue is currently there.\n",
    "- From the bedroom, you can go downstairs to the front room. You can also jump out of the window to the garden. It fits 2 people.\n",
    "\n",
    "<br>\n",
    "\n",
    "Make sure that your model:\n",
    "- Allows empty rooms\n",
    "- Allows you to jump out of the upstairs window, but not to fly back up.\n",
    "- Allows rooms which people can't fit in.\n",
    "\n",
    "<br>\n",
    "\n",
    "<br>\n",
    "\n",
    "<font color=\"orange\">Done on Lecture 2 - Thursday 12th October 2017</font>"
   ]
  },
  {
   "cell_type": "code",
   "execution_count": 2,
   "metadata": {},
   "outputs": [],
   "source": [
    "# Dictionary based solutions\n",
    "myhouse = {\n",
    "    \"FrontRoom\" : {\n",
    "        \"CurrentOccupiers\" : [\"James\"],\n",
    "        \"Capacity\" : 2,\n",
    "        \"AdjacentRooms\" : [(\"Outside\", \"Garden\"), (\"Upstairs\",\"Bedroom\"), (\"North\",\"Kitchen\")]\n",
    "    },\n",
    "    \"Kitchen\" : {\n",
    "        \"CurrentOccupiers\" : [],\n",
    "        \"Capacity\" : 1,\n",
    "        \"AdjacentRooms\" : [(\"South\", \"FrontRoom\")]\n",
    "    },\n",
    "    \"Garden\" : {\n",
    "        \"CurrentOccupiers\" : [\"Sue\"],\n",
    "        \"Capacity\" : 3,\n",
    "        \"AdjacentRooms\" : [(\"Inside\", \"FrontRoom\")]\n",
    "    },\n",
    "    \"Bedroom\" : {\n",
    "        \"CurrentOccupiers\" : [],\n",
    "        \"Capacity\" : 2,\n",
    "        \"AdjacentRooms\" : [(\"Downstairs\", \"FrontRoom\"), (\"JumpWindow\", \"Garden\")]\n",
    "    }\n",
    "}"
   ]
  },
  {
   "cell_type": "code",
   "execution_count": null,
   "metadata": {
    "collapsed": true
   },
   "outputs": [],
   "source": [
    "# List based solution\n",
    "myhouse_2 = [\n",
    "    \n",
    "     {\"Name\" : \"FrontRoom\",\n",
    "      \"CurrentOccupiers\" : [\"James\"],\n",
    "      \"Capacity\" : 2,\n",
    "      \"AdjacentRooms\" : [(\"Outside\", \"Garden\"), (\"Upstairs\",\"Bedroom\"), (\"North\",\"Kitchen\")]\n",
    "    },\n",
    "    \n",
    "    {\"Name\" : \"Kitchen\",\n",
    "     \"CurrentOccupiers\" : [],\n",
    "     \"Capacity\" : 1,\n",
    "     \"AdjacentRooms\" : [(\"South\", \"FrontRoom\")]\n",
    "    },\n",
    "    \n",
    "    {\"Name\" : \"Garden\",\n",
    "     \"CurrentOccupiers\" : [\"Sue\"],\n",
    "     \"Capacity\" : 3,\n",
    "     \"AdjacentRooms\" : [(\"Inside\", \"FrontRoom\")]\n",
    "    },\n",
    "    \n",
    "    {\"Name\" : \"Bedroom\",\n",
    "     \"CurrentOccupiers\" : [],\n",
    "     \"Capacity\" : 2,\n",
    "     \"AdjacentRooms\" : [(\"Downstairs\", \"FrontRoom\"), (\"JumpWindow\", \"Garden\")]\n",
    "    }\n",
    "]"
   ]
  }
 ],
 "metadata": {
  "kernelspec": {
   "display_name": "Python 3",
   "language": "python",
   "name": "python3"
  },
  "language_info": {
   "codemirror_mode": {
    "name": "ipython",
    "version": 3
   },
   "file_extension": ".py",
   "mimetype": "text/x-python",
   "name": "python",
   "nbconvert_exporter": "python",
   "pygments_lexer": "ipython3",
   "version": "3.6.1"
  }
 },
 "nbformat": 4,
 "nbformat_minor": 2
}
