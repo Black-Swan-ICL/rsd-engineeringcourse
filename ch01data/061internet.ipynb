{
 "cells": [
  {
   "cell_type": "markdown",
   "metadata": {},
   "source": [
    "## Getting data from the Internet"
   ]
  },
  {
   "cell_type": "markdown",
   "metadata": {},
   "source": [
    "We've seen about obtaining data from our local file system."
   ]
  },
  {
   "cell_type": "markdown",
   "metadata": {},
   "source": [
    "The other common place today that we might want to obtain data is from the internet."
   ]
  },
  {
   "cell_type": "markdown",
   "metadata": {},
   "source": [
    "It's very common today to treat the web as a source and store of information; we need to be able to **programmatically\n",
    "download data, and place it in python objects**."
   ]
  },
  {
   "cell_type": "markdown",
   "metadata": {},
   "source": [
    "We may also want to be able to **programmatically *upload* data, for example, to automatically fill in forms**."
   ]
  },
  {
   "cell_type": "markdown",
   "metadata": {},
   "source": [
    "This can be really powerful if we want to, for example, do automated meta-analysis across a selection of research papers."
   ]
  },
  {
   "cell_type": "markdown",
   "metadata": {},
   "source": [
    "### URLs"
   ]
  },
  {
   "cell_type": "markdown",
   "metadata": {},
   "source": [
    "<span style=\"background-color: #FFFF00\">All internet resources are defined by a Uniform Resource Locator (URL). </span>"
   ]
  },
  {
   "cell_type": "code",
   "execution_count": 1,
   "metadata": {},
   "outputs": [
    {
     "data": {
      "text/plain": [
       "'http://maps.googleapis.com:80/maps/api/staticmap?size=400x400&center=51.51,-0.1275&zoom=12'"
      ]
     },
     "execution_count": 1,
     "metadata": {},
     "output_type": "execute_result"
    }
   ],
   "source": [
    "\"http://maps.googleapis.com:80/maps/api/staticmap?size=400x400&center=51.51,-0.1275&zoom=12\""
   ]
  },
  {
   "cell_type": "markdown",
   "metadata": {},
   "source": [
    "<span style=\"background-color: #FFFF00\">A url consists of:</span>\n",
    "\n",
    "* <span style=\"background-color: #FFFF00\">A *scheme* (http, https, ssh, ...)</span>\n",
    "* <span style=\"background-color: #FFFF00\">A *host* (maps.googleapis.com, the name of the remote computer you want to talk to)</span>\n",
    "* <span style=\"background-color: #FFFF00\">A *port* (optional, most protocols have a typical port associated with them, e.g. 80 for http)</span>\n",
    "* <span style=\"background-color: #FFFF00\">A *path* (Like a file path on the machine, here it is maps/api/staticmap)</span>\n",
    "* <span style=\"background-color: #FFFF00\">A *query* part after a ?, (optional, usually ampersand-separated *parameters* e.g. size=400x400, or zoom=12)</span>"
   ]
  },
  {
   "cell_type": "markdown",
   "metadata": {},
   "source": [
    "**Supplementary materials**: These can actually be different for different protocols, the above is a simplification, you can see more, for example, at\n",
    "    https://en.wikipedia.org/wiki/URI_scheme"
   ]
  },
  {
   "cell_type": "markdown",
   "metadata": {},
   "source": [
    "<font color = \"blue\">URLs are not allowed to include all characters; we need to, for example, \"escape\" a space that appears inside the URL,\n",
    "replacing it with %20, so e.g. a request of http://some example.com/ would need to be http://some%20example.com/ </font>\n"
   ]
  },
  {
   "cell_type": "markdown",
   "metadata": {},
   "source": [
    "**Supplementary materials**: <font color = \"blue\">The code used to replace each character is the [ASCII](http://www.asciitable.com) code for it.</font>"
   ]
  },
  {
   "cell_type": "markdown",
   "metadata": {},
   "source": [
    "**Supplementary materials**: The escaping rules a are quite subtle. See https://en.wikipedia.org/wiki/Percent-encoding"
   ]
  },
  {
   "cell_type": "markdown",
   "metadata": {},
   "source": [
    "### Requests"
   ]
  },
  {
   "cell_type": "markdown",
   "metadata": {},
   "source": [
    "<span style=\"background-color: #FFFF00\">The python [requests](http://docs.python-requests.org/en/latest/) library can help us manage and manipulate URLs. It is easier to use than the 'urllib' library that is part of the standard library, and is included with anaconda and canopy. It sorts out escaping, parameter encoding, and so on for us.</span>"
   ]
  },
  {
   "cell_type": "markdown",
   "metadata": {},
   "source": [
    "To request the above URL, for example, we write:"
   ]
  },
  {
   "cell_type": "code",
   "execution_count": 1,
   "metadata": {
    "scrolled": true
   },
   "outputs": [
    {
     "name": "stdout",
     "output_type": "stream",
     "text": [
      "appdirs==1.4.3\n",
      "appnope==0.1.0\n",
      "bleach==2.0.0\n",
      "cairocffi==0.8.0\n",
      "CairoSVG==2.0.3\n",
      "cffi==1.10.0\n",
      "click==6.7\n",
      "click-plugins==1.0.3\n",
      "cligj==0.4.0\n",
      "cssselect==1.0.1\n",
      "cycler==0.10.0\n",
      "decorator==4.0.11\n",
      "descartes==1.1.0\n",
      "dropbox==8.2.0\n",
      "entrypoints==0.2.2\n",
      "Fiona==1.7.6\n",
      "geopandas==0.2.1\n",
      "geopy==1.11.0\n",
      "html5lib==0.999999999\n",
      "ipykernel==4.6.1\n",
      "ipython==6.0.0\n",
      "ipython-genutils==0.2.0\n",
      "ipywidgets==6.0.0\n",
      "jedi==0.10.2\n",
      "Jinja2==2.9.6\n",
      "jsonschema==2.6.0\n",
      "jupyter==1.0.0\n",
      "jupyter-client==5.0.1\n",
      "jupyter-console==5.1.0\n",
      "jupyter-core==4.3.0\n",
      "lxml==3.7.3\n",
      "MarkupSafe==1.0\n",
      "matplotlib==2.0.2\n",
      "mistune==0.7.4\n",
      "munch==2.1.1\n",
      "nbconvert==5.1.1\n",
      "nbformat==4.3.0\n",
      "notebook==5.0.0\n",
      "numpy==1.12.1\n",
      "O365==0.9.5\n",
      "oauthlib==2.0.2\n",
      "olefile==0.44\n",
      "packaging==16.8\n",
      "pandas==0.19.2\n",
      "pandas-datareader==0.3.0.post0\n",
      "pandocfilters==1.4.1\n",
      "patsy==0.4.1\n",
      "pexpect==4.2.1\n",
      "pickleshare==0.7.4\n",
      "Pillow==4.1.1\n",
      "plotly==2.0.8\n",
      "prompt-toolkit==1.0.14\n",
      "ptyprocess==0.5.1\n",
      "pycparser==2.17\n",
      "Pygments==2.2.0\n",
      "pymongo==3.4.0\n",
      "pyparsing==2.2.0\n",
      "Pyphen==0.9.4\n",
      "pyproj==1.9.5.1\n",
      "python-dateutil==2.6.0\n",
      "pytz==2017.2\n",
      "pyzmq==16.0.2\n",
      "qtconsole==4.3.0\n",
      "requests==2.14.2\n",
      "requests-file==1.4.2\n",
      "requests-ftp==0.3.1\n",
      "requests-oauthlib==0.8.0\n",
      "scikit-learn==0.18.1\n",
      "scipy==0.19.0\n",
      "seaborn==0.7.1\n",
      "selenium==3.4.3\n",
      "Shapely==1.5.17.post1\n",
      "simplegeneric==0.8.1\n",
      "six==1.10.0\n",
      "sklearn==0.0\n",
      "statsmodels==0.8.0\n",
      "terminado==0.6\n",
      "testpath==0.3\n",
      "tinycss==0.4\n",
      "tornado==4.5.1\n",
      "traitlets==4.3.2\n",
      "tweepy==3.5.0\n",
      "urllib3==1.22\n",
      "wcwidth==0.1.7\n",
      "WeasyPrint==0.36\n",
      "webencodings==0.5.1\n",
      "widgetsnbextension==2.0.0\n",
      "wordcloud==1.3.1\n"
     ]
    }
   ],
   "source": [
    "%%bash\n",
    "\n",
    "pip freeze"
   ]
  },
  {
   "cell_type": "code",
   "execution_count": 3,
   "metadata": {
    "collapsed": true
   },
   "outputs": [],
   "source": [
    "import requests"
   ]
  },
  {
   "cell_type": "code",
   "execution_count": 4,
   "metadata": {},
   "outputs": [],
   "source": [
    "response = requests.get(\"http://maps.googleapis.com/maps/api/staticmap\",\n",
    "                        params={\n",
    "        'size' : '400x400',\n",
    "        'center' : '51.51,-0.1275',\n",
    "        'zoom' : 12\n",
    "    })"
   ]
  },
  {
   "cell_type": "code",
   "execution_count": 5,
   "metadata": {},
   "outputs": [
    {
     "data": {
      "text/plain": [
       "b'\\x89PNG\\r\\n\\x1a\\n\\x00\\x00\\x00\\rIHDR\\x00\\x00\\x01\\x90\\x00\\x00\\x01\\x90\\x08\\x03\\x00\\x00\\x00\\xb7a\\xc6\\xfe\\x00\\x00\\x03\\x00PLTEI>&rP4KKK'"
      ]
     },
     "execution_count": 5,
     "metadata": {},
     "output_type": "execute_result"
    }
   ],
   "source": [
    "response.content[0:50]"
   ]
  },
  {
   "cell_type": "markdown",
   "metadata": {},
   "source": [
    "When we do a request, the result comes back as text. For the png image in the above, this isn't very readable:"
   ]
  },
  {
   "cell_type": "markdown",
   "metadata": {},
   "source": [
    "Just as for file access, therefore, we will need to send the text we get to a python module which understands that file format."
   ]
  },
  {
   "cell_type": "markdown",
   "metadata": {},
   "source": [
    "Again, it is important to separate the *transport* model, (e.g. a file system, or an \"http request\" for the web, from the data model of the\n",
    "                                                          data that is returned.)"
   ]
  },
  {
   "cell_type": "markdown",
   "metadata": {},
   "source": [
    "### Example: Sunspots"
   ]
  },
  {
   "cell_type": "markdown",
   "metadata": {},
   "source": [
    "Let's try to get something scientific: the sunspot cycle data from http://sidc.be/silso/home:"
   ]
  },
  {
   "cell_type": "code",
   "execution_count": 6,
   "metadata": {},
   "outputs": [],
   "source": [
    "spots=requests.get('http://www.sidc.be/silso/INFO/snmtotcsv.php').text"
   ]
  },
  {
   "cell_type": "code",
   "execution_count": 7,
   "metadata": {},
   "outputs": [
    {
     "data": {
      "text/plain": [
       "'1749;01;1749.042;  96.7; -1.0;   -1;1\\n1749;02;1749.123; 104.3; -1.0;   -1;1\\n1749'"
      ]
     },
     "execution_count": 7,
     "metadata": {},
     "output_type": "execute_result"
    }
   ],
   "source": [
    "spots[0:80]"
   ]
  },
  {
   "cell_type": "code",
   "execution_count": 8,
   "metadata": {
    "scrolled": true
   },
   "outputs": [
    {
     "data": {
      "text/plain": [
       "['__attrs__',\n",
       " '__bool__',\n",
       " '__class__',\n",
       " '__delattr__',\n",
       " '__dict__',\n",
       " '__dir__',\n",
       " '__doc__',\n",
       " '__eq__',\n",
       " '__format__',\n",
       " '__ge__',\n",
       " '__getattribute__',\n",
       " '__getstate__',\n",
       " '__gt__',\n",
       " '__hash__',\n",
       " '__init__',\n",
       " '__init_subclass__',\n",
       " '__iter__',\n",
       " '__le__',\n",
       " '__lt__',\n",
       " '__module__',\n",
       " '__ne__',\n",
       " '__new__',\n",
       " '__nonzero__',\n",
       " '__reduce__',\n",
       " '__reduce_ex__',\n",
       " '__repr__',\n",
       " '__setattr__',\n",
       " '__setstate__',\n",
       " '__sizeof__',\n",
       " '__str__',\n",
       " '__subclasshook__',\n",
       " '__weakref__',\n",
       " '_content',\n",
       " '_content_consumed',\n",
       " 'apparent_encoding',\n",
       " 'close',\n",
       " 'connection',\n",
       " 'content',\n",
       " 'cookies',\n",
       " 'elapsed',\n",
       " 'encoding',\n",
       " 'headers',\n",
       " 'history',\n",
       " 'is_permanent_redirect',\n",
       " 'is_redirect',\n",
       " 'iter_content',\n",
       " 'iter_lines',\n",
       " 'json',\n",
       " 'links',\n",
       " 'ok',\n",
       " 'raise_for_status',\n",
       " 'raw',\n",
       " 'reason',\n",
       " 'request',\n",
       " 'status_code',\n",
       " 'text',\n",
       " 'url']"
      ]
     },
     "execution_count": 8,
     "metadata": {},
     "output_type": "execute_result"
    }
   ],
   "source": [
    "dir(requests.get(\"http://www.sidc.be/silso/INFO/snmtotcsv.php\"))"
   ]
  },
  {
   "cell_type": "code",
   "execution_count": 9,
   "metadata": {},
   "outputs": [
    {
     "data": {
      "text/plain": [
       "requests.models.Response"
      ]
     },
     "execution_count": 9,
     "metadata": {},
     "output_type": "execute_result"
    }
   ],
   "source": [
    "type(requests.get(\"http://www.sidc.be/silso/INFO/snmtotcsv.php\"))"
   ]
  },
  {
   "cell_type": "markdown",
   "metadata": {},
   "source": [
    "This looks like semicolon-separated data, with different records on different lines. (Line separators come out as `\\n`)"
   ]
  },
  {
   "cell_type": "markdown",
   "metadata": {},
   "source": [
    "<center> ** -> There are many many scientific datasets which can now be downloaded like this <- ** </center>\n",
    "<br>\n",
    "<center> ** -> Integrating the download into your data pipeline can help to keep your data flows organised. <- ** </center>\n",
    "\n",
    "<br>\n",
    "\n",
    "Rather than downloading manually and then getting back into the programming flow ..."
   ]
  },
  {
   "cell_type": "markdown",
   "metadata": {},
   "source": [
    "### Writing our own Parser"
   ]
  },
  {
   "cell_type": "markdown",
   "metadata": {},
   "source": [
    "We'll need a python library to handle semicolon-separated data like the sunspot data."
   ]
  },
  {
   "cell_type": "markdown",
   "metadata": {},
   "source": [
    "You might be thinking: \"But I can do that myself!\":"
   ]
  },
  {
   "cell_type": "code",
   "execution_count": 8,
   "metadata": {},
   "outputs": [
    {
     "data": {
      "text/plain": [
       "['1749;01;1749.042;  96.7; -1.0;   -1;1',\n",
       " '1749;02;1749.123; 104.3; -1.0;   -1;1',\n",
       " '1749;03;1749.204; 116.7; -1.0;   -1;1',\n",
       " '1749;04;1749.288;  92.8; -1.0;   -1;1',\n",
       " '1749;05;1749.371; 141.7; -1.0;   -1;1']"
      ]
     },
     "execution_count": 8,
     "metadata": {},
     "output_type": "execute_result"
    }
   ],
   "source": [
    "lines=spots.split(\"\\n\")\n",
    "lines[0:5]"
   ]
  },
  {
   "cell_type": "code",
   "execution_count": 9,
   "metadata": {},
   "outputs": [],
   "source": [
    "years=[line.split(\";\")[0] for line in lines]"
   ]
  },
  {
   "cell_type": "code",
   "execution_count": 10,
   "metadata": {},
   "outputs": [
    {
     "data": {
      "text/plain": [
       "['1749',\n",
       " '1749',\n",
       " '1749',\n",
       " '1749',\n",
       " '1749',\n",
       " '1749',\n",
       " '1749',\n",
       " '1749',\n",
       " '1749',\n",
       " '1749',\n",
       " '1749',\n",
       " '1749',\n",
       " '1750',\n",
       " '1750',\n",
       " '1750']"
      ]
     },
     "execution_count": 10,
     "metadata": {},
     "output_type": "execute_result"
    }
   ],
   "source": [
    "years[0:15]"
   ]
  },
  {
   "cell_type": "markdown",
   "metadata": {},
   "source": [
    "But **don't**: what if, for example, one of the records contains a separator inside it; most computers will put the content in quotes,\n",
    "so that, for example,\n",
    "\n",
    "    \"something; something\"; something; something\n",
    "    \n",
    "has three fields, the first of which is\n",
    "\n",
    "    something; something\n",
    "    \n",
    " The naive code above would give four fields, of which the first is \n",
    " \n",
    "    \"Something"
   ]
  },
  {
   "cell_type": "markdown",
   "metadata": {},
   "source": [
    "You'll never manage to get all that right; so you'll be better off using a library to do it."
   ]
  },
  {
   "cell_type": "markdown",
   "metadata": {},
   "source": [
    "### Writing data to the internet"
   ]
  },
  {
   "cell_type": "markdown",
   "metadata": {},
   "source": [
    "<span style=\"background-color: #FFFF00\"> Note that we're using `requests.get`. `get` is used to receive data from the web.\n",
    "You can also use `post` to fill in a web-form programmatically. </span>"
   ]
  },
  {
   "cell_type": "markdown",
   "metadata": {},
   "source": [
    "<font color =\"red\"> ** -> ** </font> **Supplementary material**: Learn about using `post` with [requests](http://docs.python-requests.org/en/latest/user/quickstart/)."
   ]
  },
  {
   "cell_type": "markdown",
   "metadata": {},
   "source": [
    "<font color =\"red\"> ** -> ** </font> **Supplementary material**: Learn about the different kinds of [http request](https://en.wikipedia.org/wiki/Hypertext_Transfer_Protocol#Request_methods): [Get, Post, Put, Delete](https://en.wikipedia.org/wiki/Create,_read,_update_and_delete)..."
   ]
  },
  {
   "cell_type": "markdown",
   "metadata": {},
   "source": [
    "This can be used for all kinds of things, for example, to programmatically add data to a web resource. It's all well beyond\n",
    "our scope for this course, but it's important to know it's possible, and start to think about the scientific possibilities."
   ]
  }
 ],
 "metadata": {
  "jekyll": {
   "display_name": "Internet"
  },
  "kernelspec": {
   "display_name": "Python 3",
   "language": "python",
   "name": "python3"
  },
  "language_info": {
   "codemirror_mode": {
    "name": "ipython",
    "version": 3
   },
   "file_extension": ".py",
   "mimetype": "text/x-python",
   "name": "python",
   "nbconvert_exporter": "python",
   "pygments_lexer": "ipython3",
   "version": "3.6.1"
  }
 },
 "nbformat": 4,
 "nbformat_minor": 1
}
